{
 "cells": [
  {
   "cell_type": "code",
   "execution_count": 1,
   "metadata": {
    "collapsed": true
   },
   "outputs": [],
   "source": [
    "from collections import namedtuple\n",
    "from enum import Enum"
   ]
  },
  {
   "cell_type": "code",
   "execution_count": 2,
   "metadata": {
    "collapsed": true
   },
   "outputs": [],
   "source": [
    "THRESHOLD = 1024"
   ]
  },
  {
   "cell_type": "code",
   "execution_count": 3,
   "metadata": {
    "collapsed": true
   },
   "outputs": [],
   "source": [
    "class LambdaType(Enum):\n",
    "  func = 1\n",
    "  appl = 2\n",
    "  term = 3"
   ]
  },
  {
   "cell_type": "code",
   "execution_count": 4,
   "metadata": {
    "collapsed": true
   },
   "outputs": [],
   "source": [
    "isFunc = lambda expr: expr.getType() == LambdaType.func\n",
    "isAppl = lambda expr: expr.getType() == LambdaType.appl\n",
    "isTerm = lambda expr: expr.getType() == LambdaType.term"
   ]
  },
  {
   "cell_type": "code",
   "execution_count": 5,
   "metadata": {
    "collapsed": true
   },
   "outputs": [],
   "source": [
    "isParent = lambda expr: not isTerm(expr)"
   ]
  },
  {
   "cell_type": "code",
   "execution_count": 6,
   "metadata": {
    "collapsed": true
   },
   "outputs": [],
   "source": [
    "isFat = lambda expr: isFunc(expr) or isAppl(expr) or isTerm(expr)"
   ]
  },
  {
   "cell_type": "code",
   "execution_count": 7,
   "metadata": {
    "collapsed": true
   },
   "outputs": [],
   "source": [
    "brackets = lambda expr, fun, b: ('(['[b] + expr.toStr(1 - b) + ')]'[b]\n",
    "    if fun(expr) else expr.toStr(b))"
   ]
  },
  {
   "cell_type": "code",
   "execution_count": 8,
   "metadata": {
    "collapsed": true
   },
   "outputs": [],
   "source": [
    "def lambdaCall(expr):\n",
    "  seen = set()\n",
    "  while True:\n",
    "    seen.add(expr)\n",
    "    assert len(seen) < THRESHOLD\n",
    "    cur = expr.step()\n",
    "    if not cur: return lambdaClean(expr)\n",
    "    assert len(cur) < THRESHOLD and cur not in seen\n",
    "    expr = cur"
   ]
  },
  {
   "cell_type": "code",
   "execution_count": 9,
   "metadata": {
    "collapsed": true
   },
   "outputs": [],
   "source": [
    "def lambdaClean(expr):\n",
    "  while True:\n",
    "    cur = expr.clean()\n",
    "    if not cur: return expr\n",
    "    expr = cur"
   ]
  },
  {
   "cell_type": "code",
   "execution_count": 10,
   "metadata": {
    "collapsed": true
   },
   "outputs": [],
   "source": [
    "class Func(namedtuple('Func', ['body'])):\n",
    "  def __init__(self, *args, **kwargs):\n",
    "    assert isFat(self.body)\n",
    "  def __repr__(self):\n",
    "    return self.toStr()\n",
    "  def __len__(self):\n",
    "    return len(self.body) + 1\n",
    "  def __call__(self):\n",
    "    return lambdaClean(self)\n",
    "  def getType(self):\n",
    "    return LambdaType.func\n",
    "  def step(self):\n",
    "    return None\n",
    "  def clean(self):\n",
    "    child = self.body.clean()\n",
    "    return Func(child) if child else None\n",
    "  def subst(self, arg, level):\n",
    "    newBody, count = self.body.subst(arg.deepen(level=0), level + 1)\n",
    "    return Func(newBody), count\n",
    "  def deepen(self, level):\n",
    "    return Func(self.body.deepen(level + 1))\n",
    "  def toStr(self, b=0):\n",
    "    return '♥' + brackets(self.body, isAppl, b)"
   ]
  },
  {
   "cell_type": "code",
   "execution_count": 11,
   "metadata": {
    "collapsed": true
   },
   "outputs": [],
   "source": [
    "class Appl(namedtuple('Appl', ['func', 'arg'])):\n",
    "  def __init__(self, *args, **kwargs):\n",
    "    assert isFat(self.func) and isFat(self.arg)\n",
    "  def __repr__(self):\n",
    "    return self.toStr()\n",
    "  def __len__(self):\n",
    "    return len(self.func) + len(self.arg) + 1\n",
    "  def __call__(self):\n",
    "    return lambdaCall(self)\n",
    "  def getType(self):\n",
    "    return LambdaType.appl\n",
    "  def step(self):\n",
    "    if isFunc(self.func): return self.func.body.subst(self.arg, level=0)[0]\n",
    "    child = self.func.step()\n",
    "    return Appl(child, self.arg) if child else None\n",
    "  def clean(self):\n",
    "    if isFunc(self.func):\n",
    "      newBody, count = self.func.body.subst(self.arg, level=0)\n",
    "      if count < 2: return newBody\n",
    "    newFunc = self.func.clean()\n",
    "    newArg = self.arg.clean()\n",
    "    if not (newFunc or newArg): return None\n",
    "    return Appl(newFunc or self.func, newArg or self.arg)\n",
    "  def subst(self, arg, level):\n",
    "    newFunc, funcCount = self.func.subst(arg, level)\n",
    "    newArg, argCount = self.arg.subst(arg, level)\n",
    "    return Appl(newFunc, newArg), funcCount + argCount\n",
    "  def deepen(self, level):\n",
    "    return Appl(self.func.deepen(level), self.arg.deepen(level))\n",
    "  def toStr(self, b=0):\n",
    "    return '{}.{}'.format(brackets(self.func, isFunc, b),\n",
    "        brackets(self.arg, isParent, b))"
   ]
  },
  {
   "cell_type": "code",
   "execution_count": 12,
   "metadata": {
    "collapsed": true
   },
   "outputs": [],
   "source": [
    "class Term(namedtuple('Term', ['level'])):\n",
    "  def __init__(self, *args, **kwargs):\n",
    "    assert type(self.level) is int\n",
    "  def __repr__(self):\n",
    "    return self.toStr()\n",
    "  def __len__(self):\n",
    "    return 1\n",
    "  def getType(self):\n",
    "    return LambdaType.term\n",
    "  def step(self):\n",
    "    if self.level < 0: raise Exception('Error code: {}'.format(self.level))\n",
    "    return None\n",
    "  def clean(self):\n",
    "    return None\n",
    "  def subst(self, arg, level):\n",
    "    if self.level == level: return arg, 0 if isTerm(arg) else 1\n",
    "    return self if self.level < level else Term(self.level - 1), 0\n",
    "  def deepen(self, level):\n",
    "    return self if self.level < level else Term(self.level + 1) \n",
    "  def toStr(self, b=0):\n",
    "    return '∞' if self.level < 0 else repr(self.level)"
   ]
  },
  {
   "cell_type": "code",
   "execution_count": 13,
   "metadata": {
    "collapsed": true
   },
   "outputs": [],
   "source": [
    "MakeTerm = lambda arg: Term(arg) if type(arg) is int else arg"
   ]
  },
  {
   "cell_type": "code",
   "execution_count": 14,
   "metadata": {
    "collapsed": true
   },
   "outputs": [],
   "source": [
    "L = lambda level, *args: Func(L(level - 1, *args) if level > 1 else\n",
    "    C(*args) if len(args) > 1 else MakeTerm(args[0]))"
   ]
  },
  {
   "cell_type": "code",
   "execution_count": 15,
   "metadata": {
    "collapsed": true
   },
   "outputs": [],
   "source": [
    "C = lambda *args: (C(C(*args[:-1]), args[-1]) if len(args) > 2\n",
    "    else Appl(MakeTerm(args[0]), MakeTerm(args[1])))"
   ]
  },
  {
   "cell_type": "code",
   "execution_count": 16,
   "metadata": {
    "collapsed": false
   },
   "outputs": [
    {
     "data": {
      "text/plain": [
       "♥0"
      ]
     },
     "execution_count": 16,
     "metadata": {},
     "output_type": "execute_result"
    }
   ],
   "source": [
    "Id = L(1, 0)\n",
    "Id"
   ]
  },
  {
   "cell_type": "code",
   "execution_count": 17,
   "metadata": {
    "collapsed": true
   },
   "outputs": [],
   "source": [
    "def PrintInts(pythonInt, num):\n",
    "  assert type(pythonInt) is int\n",
    "  assert isFunc(num)\n",
    "  print('{:2} is {}'.format(pythonInt, C(num, Id)()))"
   ]
  },
  {
   "cell_type": "code",
   "execution_count": 18,
   "metadata": {
    "collapsed": false
   },
   "outputs": [
    {
     "name": "stdout",
     "output_type": "stream",
     "text": [
      " 0 is ♥♥♥0\n"
     ]
    }
   ],
   "source": [
    "Zero = L(1, 0, L(3, 0))\n",
    "PrintInts(0, Zero)"
   ]
  },
  {
   "cell_type": "code",
   "execution_count": 19,
   "metadata": {
    "collapsed": true
   },
   "outputs": [],
   "source": [
    "# Here's a function to increment an unbounded nonnegative integer in an efficient binary representation.\n",
    "# TODO(tamer): Implement a compiler to generate lambda expressions like Inc and Dec from source code.\n",
    "\n",
    "Inc = L(1, L(1, L(1, L(1, 0, 0, 3), L(2, 0,\n",
    "    L(1, 2, 2, 0, 3), C(3, L(4, 2, 3)), C(2, 0))),\n",
    "    C(0, L(4, 1, 3))), L(3, 0, C(2, 1)))"
   ]
  },
  {
   "cell_type": "code",
   "execution_count": 20,
   "metadata": {
    "collapsed": false
   },
   "outputs": [
    {
     "data": {
      "text/plain": [
       "♥([♥([♥([♥(0.0.3)].[♥♥(0.[♥(2.2.0.3)].[3.(♥♥♥♥[2.3])].[2.0])])].[0.(♥♥♥♥[1.3])])].[♥♥♥(0.[2.1])])"
      ]
     },
     "execution_count": 20,
     "metadata": {},
     "output_type": "execute_result"
    }
   ],
   "source": [
    "Inc"
   ]
  },
  {
   "cell_type": "code",
   "execution_count": 21,
   "metadata": {
    "collapsed": false
   },
   "outputs": [
    {
     "name": "stdout",
     "output_type": "stream",
     "text": [
      " 0 is ♥♥♥0\n",
      " 1 is ♥♥♥(1.[♥♥♥0])\n",
      " 2 is ♥♥♥(2.[♥♥♥0])\n",
      " 3 is ♥♥♥(1.[♥♥♥(1.[♥♥♥0])])\n",
      " 4 is ♥♥♥(2.[♥♥♥(1.[♥♥♥0])])\n",
      " 5 is ♥♥♥(1.[♥♥♥(2.[♥♥♥0])])\n",
      " 6 is ♥♥♥(2.[♥♥♥(2.[♥♥♥0])])\n",
      " 7 is ♥♥♥(1.[♥♥♥(1.[♥♥♥(1.[♥♥♥0])])])\n",
      " 8 is ♥♥♥(2.[♥♥♥(1.[♥♥♥(1.[♥♥♥0])])])\n",
      " 9 is ♥♥♥(1.[♥♥♥(2.[♥♥♥(1.[♥♥♥0])])])\n",
      "10 is ♥♥♥(2.[♥♥♥(2.[♥♥♥(1.[♥♥♥0])])])\n",
      "11 is ♥♥♥(1.[♥♥♥(1.[♥♥♥(2.[♥♥♥0])])])\n",
      "12 is ♥♥♥(2.[♥♥♥(1.[♥♥♥(2.[♥♥♥0])])])\n",
      "13 is ♥♥♥(1.[♥♥♥(2.[♥♥♥(2.[♥♥♥0])])])\n",
      "14 is ♥♥♥(2.[♥♥♥(2.[♥♥♥(2.[♥♥♥0])])])\n",
      "15 is ♥♥♥(1.[♥♥♥(1.[♥♥♥(1.[♥♥♥(1.[♥♥♥0])])])])\n",
      "16 is ♥♥♥(2.[♥♥♥(1.[♥♥♥(1.[♥♥♥(1.[♥♥♥0])])])])\n"
     ]
    }
   ],
   "source": [
    "num = Zero\n",
    "PrintInts(0, Zero)\n",
    "for i in range(16):\n",
    "  num = C(num, Inc)()\n",
    "  PrintInts(i + 1, num)\n",
    "Sixteen = num"
   ]
  },
  {
   "cell_type": "code",
   "execution_count": 22,
   "metadata": {
    "collapsed": false
   },
   "outputs": [],
   "source": [
    "Dec = L(1, L(1, L(1, 0, 0, 2), L(2, 0, C(2, L(4, 1, 3)),\n",
    "    L(1, L(1, 1, 0, 0, L(1, 0, 2)), L(1, 3, 3, 1,\n",
    "    C(4, L(4, 2, 3)))), -1)), L(3, 0, C(2, 1)))"
   ]
  },
  {
   "cell_type": "code",
   "execution_count": 23,
   "metadata": {
    "collapsed": false
   },
   "outputs": [
    {
     "data": {
      "text/plain": [
       "♥([♥([♥(0.0.2)].[♥♥(0.[2.(♥♥♥♥[1.3])].[♥([♥(1.0.0.[♥(0.2)])].[♥(3.3.1.[4.(♥♥♥♥[2.3])])])].∞)])].[♥♥♥(0.[2.1])])"
      ]
     },
     "execution_count": 23,
     "metadata": {},
     "output_type": "execute_result"
    }
   ],
   "source": [
    "Dec"
   ]
  },
  {
   "cell_type": "code",
   "execution_count": 24,
   "metadata": {
    "collapsed": false
   },
   "outputs": [
    {
     "name": "stdout",
     "output_type": "stream",
     "text": [
      "16 is ♥♥♥(2.[♥♥♥(1.[♥♥♥(1.[♥♥♥(1.[♥♥♥0])])])])\n",
      "15 is ♥♥♥(1.[♥♥♥(1.[♥♥♥(1.[♥♥♥(1.[♥♥♥0])])])])\n",
      "14 is ♥♥♥(2.[♥♥♥(2.[♥♥♥(2.[♥♥♥0])])])\n",
      "13 is ♥♥♥(1.[♥♥♥(2.[♥♥♥(2.[♥♥♥0])])])\n",
      "12 is ♥♥♥(2.[♥♥♥(1.[♥♥♥(2.[♥♥♥0])])])\n",
      "11 is ♥♥♥(1.[♥♥♥(1.[♥♥♥(2.[♥♥♥0])])])\n",
      "10 is ♥♥♥(2.[♥♥♥(2.[♥♥♥(1.[♥♥♥0])])])\n",
      " 9 is ♥♥♥(1.[♥♥♥(2.[♥♥♥(1.[♥♥♥0])])])\n",
      " 8 is ♥♥♥(2.[♥♥♥(1.[♥♥♥(1.[♥♥♥0])])])\n",
      " 7 is ♥♥♥(1.[♥♥♥(1.[♥♥♥(1.[♥♥♥0])])])\n",
      " 6 is ♥♥♥(2.[♥♥♥(2.[♥♥♥0])])\n",
      " 5 is ♥♥♥(1.[♥♥♥(2.[♥♥♥0])])\n",
      " 4 is ♥♥♥(2.[♥♥♥(1.[♥♥♥0])])\n",
      " 3 is ♥♥♥(1.[♥♥♥(1.[♥♥♥0])])\n",
      " 2 is ♥♥♥(2.[♥♥♥0])\n",
      " 1 is ♥♥♥(1.[♥♥♥0])\n",
      " 0 is ♥♥♥0\n"
     ]
    }
   ],
   "source": [
    "num = Sixteen\n",
    "PrintInts(16, num)\n",
    "for i in range(16, 0, -1):\n",
    "  num = C(num, Dec)()\n",
    "  PrintInts(i - 1, num)\n",
    "assert num == Zero"
   ]
  }
 ],
 "metadata": {
  "kernelspec": {
   "display_name": "Python 3",
   "language": "python",
   "name": "python3"
  },
  "language_info": {
   "codemirror_mode": {
    "name": "ipython",
    "version": 3
   },
   "file_extension": ".py",
   "mimetype": "text/x-python",
   "name": "python",
   "nbconvert_exporter": "python",
   "pygments_lexer": "ipython3",
   "version": "3.5.0"
  }
 },
 "nbformat": 4,
 "nbformat_minor": 0
}
